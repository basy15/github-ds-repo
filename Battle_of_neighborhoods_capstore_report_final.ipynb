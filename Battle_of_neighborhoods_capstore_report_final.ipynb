{
 "cells": [
  {
   "cell_type": "markdown",
   "metadata": {},
   "source": [
    "<h1><center>Recommander system for Café contractor in Toronto</center></h1>  "
   ]
  },
  {
   "cell_type": "markdown",
   "metadata": {},
   "source": [
    "<img src = \"http://www.deeptenger.com/init/static/images/conversionswords.jpg\" width = 400> </a>\n",
    "\n",
    "#### Image is from this site: <http://www.deeptenger.com/init/static/images/conversionswords.jpg>"
   ]
  },
  {
   "cell_type": "markdown",
   "metadata": {},
   "source": [
    "<h1><center>Brahim AMRHAR</center></h1>                                                    \n",
    "<h2><center>May, 2019</center></h2>                                                          "
   ]
  },
  {
   "cell_type": "markdown",
   "metadata": {},
   "source": [
    "## 1. Introduction\n",
    "\n",
    "### 1.1 Background\n",
    "\n",
    "#### Coffee Facts in Canada\n",
    "\n",
    "Coffee is Canada’s most consumed beverage amongst adults – even more than tap water. As champions for the advancement and enjoyment of coffee in Canada, the Coffee Association of Canada (CAC) continually strives to better understand and educate Canadians about their favourite brew.\n",
    "\n",
    "Every year, the CAC commissions the proprietary Canadian Coffee Drinking Study on behalf of its members. Below is an infographic, which highlights a few key findings from the results of the 2018 survey.\n",
    "\n",
    "<a href=\"http://www.coffeeassoc.com/wp-content/uploads/2018/11/CAC-Coffee-Drinking-Trends-INFOGRAPHIC-2018.pdf\">CAC Coffee Drinking Trends INFOGRAPHIC 2018</a>\n",
    "\n",
    "#### The Coffee Industry in Canada:\n",
    "    $6.2 billion industry\n",
    "$4.8 billion sales in Foodservice\n",
    "    $1.4 billion sales in Grocery / Retail Sales\n",
    "\n",
    "#### Coffee Creates Jobs in Canada: \n",
    "\n",
    "* 160,000+ jobs in Cafes and Coffee Shops\n",
    "\n",
    "* 5,000+ jobs in Manufacturing and Roasting\n",
    "\n",
    "* 5,000+ independent café and coffee shop owners and several thousand franchise owner-operators\n",
    "\n",
    "* Attractive entry-level positions for young people\n",
    "\n",
    "* Jobs in support sectors such as packaging, cup suppliers, food manufacturing etc.\n",
    "\n",
    "### 1.2 Problem\n",
    "\n",
    "Given these facts, a New brand of Café contractor wants to spring-up in Toronto, espacially in North York, to provide \"Bio\" and \"Eco\" Café to Restaurants. Globally, restaurants don't have a variety of café for their clients and therefore, client get done with one café without any particularities in termes of flavour, taste, aroms, etc. Moreover, Café culture declines a variety of coffee types by seasons and by origines.\n",
    "\n",
    "### 1.3 Interest\n",
    "\n",
    "The main idea behind the business is to promote a good quality with divers tastes, all over the seasons, to restaurants so that the \"Café\" moment become more a deep pleasure than just appetizers' ends. It's matter of renew with the grand café values. \n",
    "\n",
    "This will benefit to restaurants so they will create clients' loyality and retain their actual ones. This will also benefit to the contractor as he will have broad range of customers to supply and make his trademark more known. Consequently, it's win-win business relationship with more income in both parts.\n",
    "\n",
    "Then the contractor is going to work on this field of the market and find potential restaurants to hold this idea. The geographical scope of the study is Toronto and particularly North York borough where the contractor want to develop first this business.\n",
    "\n",
    "The contractor should build the store where it is closest to its customers in order to minimize the cost of transporation and supply in short time. Which neighborhood (in that borough) would be a better choice for the contractor to build the store in that neighborhood? The Recommander system should provide this contractor with a sorted list of neighborhoods in which the first element of the list will be the best suggested neighborhood."
   ]
  },
  {
   "cell_type": "markdown",
   "metadata": {},
   "source": [
    "## 2. Data acquisition and cleaning\n",
    "\n",
    "### 2.1 Data sources\n",
    "\n",
    "1- First, we collect geographical coordinates information about that specific borough and the its neighborhoods. We assume that it is \"North York\" in Toronto. This information is given by the contractor, because the contractor has already made up his mind about the borough. The Postal Codes that fall into that borough would also be sufficient. \n",
    "\n",
    "We use Postal Codes of different regions inside North York to find the list of neighborhoods. We essentially obtain our information from <https://en.wikipedia.org/wiki/List_of_postal_codes_of_Canada:_M> and then process the table inside this site. \n",
    "\n",
    "Given that the Geocoder package can be very unreliable, we used a link to a csv file that has the geographical coordinates of each postal code: http://cocl.us/Geospatial_data.\n",
    "\n",
    "2- We will need data about different venues in different neighborhoods of that specific borough. In order to get that information we will use \"Foursquare\" location company's dataset. By locational information for each venue we mean basic and advanced information about that venue. \n",
    "After finding the list of neighborhoods, we then connect to the Foursquare API to gather information about venues inside each and every neighborhood. For each neighborhood, we have chosen the radius to be 1000 meter. It means that we have asked Foursquare to find venues that are at most 1000 meter far from the center of the neighborhood. (I think distance is measured by latitude and longitude of venues and neighborhoods, and it is not the walking distance for venues.)\n",
    "\n",
    "For example there is a venue in one of the neighborhoods. As basic information, we can obtain its precise latitude and longitude and also its distance from the center of the neighborhood. But we are looking for advanced information such as the category of that venue and whether this venue is a popular one in its category or maybe the average price of the services of this venue. A typical request from Foursquare will provide us with  the following information:\n",
    "\n",
    "##### [Postal Code]\t[Neighborhood(s)]\t[Neighborhood Latitude]\t[Neighborhood Longitude]\t[Venue]\t[Venue Category]\t[Distance]\n",
    "##### [M1L]\t[Clairlea, Golden Mile, Oakridge]\t[43.711112]\t[-79.284577]\t[Tim Hortons]\t[Coffee Shop]\t[592]"
   ]
  },
  {
   "cell_type": "markdown",
   "metadata": {},
   "source": [
    "### Some Notes about \"Foursquare\": <https://foursquare.com/>\n",
    "##### Foursquare is a local search-and-discovery service mobile app which provides search results for its users (Wikipedia).\n",
    "##### Founded: New York City, New York, U.S\n",
    "##### Users: 60 million\n",
    "##### Date launched: March 11, 2009\n",
    "##### Employees: Over 200\n",
    "##### Founders: Dennis Crowley, Naveen Selvadurai\n",
    "##### Owner: Foursquare Labs, Inc."
   ]
  },
  {
   "cell_type": "markdown",
   "metadata": {},
   "source": [
    "### 2.2 Data cleaning\n",
    "\n",
    "When the data is completely gathered, we perform processing on that raw data to find our desirable features for each venue. Our main feature is the category of that venue. After this stage, the column \"Venue's Category\" wil be One-hot encoded and different venues will have different feature-columns. After On-hot encoding we will integrate all restaurant columns to one column \"Total Restaurants\" and all food joint columns to \"Total Joints\" column. We assumed that different resaturants use the Same raw groceries. This assumption is made for simplicity and due to not having a very detailed dataset about different venues.\n",
    "\n",
    "Data doanloaded or scraped from multiple sources. There were combined into one table. There were a lot of missing values. we only process the cells that have an assigned borough and ignore cells with a borough that is Not assigned. We reset \"Not assigned\" neighborhood to borough value. \n",
    "\n",
    "### 2.3 Feature selection\n",
    "After data cleaning, there were 615 samples and 152 features in the data. Upon examining the meaning of each feature, it was clear that there was unwanted features such as Candy or Clothing Stotes that are irrelevant to our need. These places aren't candidate to promote Coffee business. We then decided to reduce the scope of features to restaurants and some coffee shops that are of stakeholders' interest. These actions were necessary to get data ready for processing.\n",
    "\n",
    "['American Restaurant', 'Asian Restaurant', 'Bubble Tea Shop',\n",
    "       'Burger Joint', 'Burrito Place', 'Cafeteria', 'Café',\n",
    "       'Caribbean Restaurant', 'Cheese Shop', 'Chinese Restaurant',\n",
    "       'Coffee Shop', 'Comfort Food Restaurant', 'Deli / Bodega',\n",
    "       'Dessert Shop', 'Dim Sum Restaurant', 'Diner',\n",
    "       'Eastern European Restaurant', 'Empanada Restaurant',\n",
    "       'Falafel Restaurant', 'Fish & Chips Shop', 'Food & Drink Shop',\n",
    "       'French Restaurant', 'Greek Restaurant', 'Housing Development',\n",
    "       'Indian Restaurant', 'Indonesian Restaurant', 'Italian Restaurant',\n",
    "       'Japanese Restaurant', 'Korean Restaurant', 'Latin American Restaurant',\n",
    "       'Mediterranean Restaurant', 'Middle Eastern Restaurant',\n",
    "       'Portuguese Restaurant', 'Restaurant', 'Seafood Restaurant',\n",
    "       'Steakhouse', 'Sushi Restaurant', 'Thai Restaurant',\n",
    "       'Turkish Restaurant', 'Vietnamese Restaurant']\n"
   ]
  },
  {
   "cell_type": "markdown",
   "metadata": {},
   "source": [
    "## Exploratory Data Analysis\n",
    "\n",
    "### Applying one of Machine Learning Techniques (K-Means Clustering)\n",
    "\n",
    "**Here we cluster neighborhoods via K-means clustering method. We think that 3 clusters is enough and can cover the complexity of our problem. After clustering we will update our dataset and create a column representing the group for each neighborhood.** \n"
   ]
  },
  {
   "cell_type": "markdown",
   "metadata": {},
   "source": [
    "## Decision Making and Reporting Results\n",
    "\n",
    "After having data collected from different sources, cleaned and transformed, we came to the stage where we retrieve usefull information on neighborhoods and their venues that are of our concern. \n",
    "Although the scope is large in terms of number of restaurants in North York, the clustering led us to get a list of neighbohood with significant and potential spectrum of restaurants we can start the business with in this city. \n",
    "\n",
    "Now, we focus on the centers of clusters and compare them for their fist common venues. The group which its center has the highest number of Asian restaurants will be our best recommendation to the contractor. Neighborhood **Willowdale South** is a good candidate to spring up the business of the new coffee brand.\n",
    "\n",
    "More criteras from stakeholders could help refine this study for example to adress customers is closer area to head quarter for example. But this study is a start point to have sufficient idea about the area to cover with distribution of the new coffee brand. The transportation cost aspect could be a key factor as well as the volumes traded to target new customers in North York."
   ]
  },
  {
   "cell_type": "markdown",
   "metadata": {},
   "source": [
    "### Results:\n",
    "Based on this analysis, the best recommended neighborhood will be:\n",
    "\n",
    "Neighborhood: Willowdale South,\n",
    "\n",
    "Postal Code: M2N,\n",
    "\n",
    "Neighborhood Latitude: 43.770120,\n",
    "\n",
    "Neighborhood Longitude: -79.408493\n",
    "\n",
    "\n",
    "## Conclusion\n",
    "\n",
    "Purpose of this project is to identify new areas/market in North York, Toronto, where matured stakeholder can extend his business. Knowing that Coffee is Canada’s most consumed beverage amongst adults – even more than tap water, still many places in North York (inhabited by people of many different cultures) don't give such value and importance to it. That is why we aimed at finding the best restaurants in North York that can handle and share the idea to promote good quality of coffee with diverse flavour and tastes. By calculating restaurants distribution from Foursquare data we identified neighborhood in Nort York that justify further analysis and then generated collection of locations which satisfy some basic requirements regarding nearby restaurants. Clustering of those locations was then performed in order to create major zones of interest (containing greatest number of potential locations) and addresses of those zone centers were created to be used as starting points for final exploration by stakeholders. \n",
    "\n",
    "Final decission on optimal restaurant location will be made by stakeholders based on specific characteristics of neighborhoods and locations in every recommended zone, taking into consideration additional factors like attractiveness of each location (proximity to other restaurants or Coffee shops), levels of noise / proximity to major roads, social and economic dynamics of every neighborhood etc.\n",
    "\n",
    "### Thanks a lot for reading!\n",
    "*--------------------------------------------------------------------------*\n",
    "### Brahim AMRHAR - basy15@gmail.com"
   ]
  }
 ],
 "metadata": {
  "kernelspec": {
   "display_name": "Python 3",
   "language": "python",
   "name": "python3"
  },
  "language_info": {
   "codemirror_mode": {
    "name": "ipython",
    "version": 3
   },
   "file_extension": ".py",
   "mimetype": "text/x-python",
   "name": "python",
   "nbconvert_exporter": "python",
   "pygments_lexer": "ipython3",
   "version": "3.7.1"
  }
 },
 "nbformat": 4,
 "nbformat_minor": 2
}
